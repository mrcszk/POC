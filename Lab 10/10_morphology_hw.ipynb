{
 "cells": [
  {
   "cell_type": "markdown",
   "metadata": {},
   "source": [
    "## Zadanie domowe: morfologiczna gra w życie – John Conway\n",
    "\n",
    "### Wykorzystanie operacji LUT w przekształceniu trafi, nie trafi\n",
    "  - Szybszą metodą wykonania transformacji trafi, nie trafi może być operacja LUT.\n",
    "  - Technika polega na zakodowaniu wyników wszystkich interesujących  konfiguracji, a następnie podczas przetwarzania wykorzystania operacji LUT.\n",
    "  - Dla otoczenia 3x3 możliwe jest 512 różnych konfiguracji.\n",
    "  - Aby praktycznie zrealizować operacje, każdej konfiguracji należy nadać unikalny indeks. Jedną z możliwości jest pomnożenie elementu strukturalnego przez macierz (mnożenie odpowiednich elementów):\n",
    "  ```\n",
    "  [[1, 8,  64],\n",
    "   [ 2, 16, 128],\n",
    "   [ 4, 32, 256]]\n",
    "  ```\n",
    "  Przykładowo elementowi:\n",
    "  ```\n",
    "  [[1, 1, 0],\n",
    "   [ 1, 0, 1],\n",
    "   [ 1, 0, 1]]\n",
    "  ```\n",
    "  odpowiada liczba: 1(1) + 2(1) + 4(1) + 8(1) + 128(1) + 256(1) = 399.\n",
    "  \n",
    "### Przykład działania metody – detekcja punktów końcowych na obrazie.\n",
    "  - założenie: punkt końcowy to punkt, który ma dokładnie jednego sąsiada,\n",
    "  - zdefiniuj funkcję, która jako argument pobiera otoczenie, a zwraca 0 lub 1 w zależności od tego, czy rozpatrywany punkt jest końcowy np. dla sąsiedztwa 3×3 punkt będzie końcowy, jeżeli jest zapalony i ma tylko jednego sąsiada (czyli suma pikseli jest równa 2).\n",
    "  - wygeneruj przekodowanie LUT.\n",
    "  - wczytaj obraz szkielet.bmp (należy go przekształcić, aby uzyskać dwuwymiarową tablicę o wartościach 0-1). Wykorzystując wygenerowane przekodowanie LUT wykonaj detekcję zakończeń. Wyświetl obraz oryginalny i po przekodowaniu LUT.\n",
    "\n",
    "### Gra w życie\n",
    "\n",
    "Reguły gry w życie:\n",
    "  - każdy piksel biały, który ma dwóch lub trzech sąsiadów (białych) przeżywa,\n",
    "  - każdy piksel biały, który ma 0,1 lub więcej niż trzech sąsiadów (białych) nie przeżywa (głód lub przeludnienie),\n",
    "  - jeżeli jakieś pole (czarne) sąsiaduje dokładnie z trzema pikselami białymi, to na tym polu ,,rodzi'' się nowy piksel biały.\n",
    "\n",
    "Zadanie:\n",
    "  - za pomocą mechanizmu LUT (opisanego wcześniej) należy zaimplementować morfologiczną gre w życie,\n",
    "  - najważniejszym elementem jest funkcja opisująca reguły gry,\n",
    "  - symulacje należny przeprowadzić dla plansz dostarczonych w pliku gra.py,\n",
    "  - dobrze jest wykonać kilka iteracji – zobaczyć jak zmienia się kształt,\n",
    "  - inne ciekawe kształty do znalezienia w internecie.\n"
   ]
  },
  {
   "cell_type": "code",
   "execution_count": 1,
   "metadata": {
    "pycharm": {
     "name": "#%%\n"
    }
   },
   "outputs": [
    {
     "name": "stdout",
     "output_type": "stream",
     "text": [
      "[[ 17  24  80]\n",
      " [ 18  32 144]\n",
      " [ 20  48 272]]\n"
     ]
    },
    {
     "data": {
      "image/png": "[encoded data removed]",
      "text/plain": [
       "<Figure size 1080x360 with 2 Axes>"
      ]
     },
     "metadata": {
      "needs_background": "light"
     },
     "output_type": "display_data"
    }
   ],
   "source": [
    "import matplotlib.pyplot as plt\n",
    "import cv2\n",
    "import numpy as np\n",
    "import os\n",
    "import gra\n",
    "\n",
    "if not os.path.exists(\"gra.py\") :\n",
    "    !wget https://raw.githubusercontent.com/vision-agh/poc_sw/master/10_Morfologia/gra.py --no-check-certificate\n",
    "\n",
    "struct = np.array([[1,8,64],[2,16,128],[4,32,256]]).astype(\"uint8\")\n",
    "lut = np.zeros((512,), dtype=int)\n",
    "tab = [17,24,80,18,144,20,48,272]\n",
    "for x in tab:\n",
    "    lut[x] = 1\n",
    "\n",
    "def end(S):\n",
    "    v = 0\n",
    "    for i in range(S.shape[0]):\n",
    "        for j in range(S.shape[1]):\n",
    "            v += S[i,j]*struct[i,j]\n",
    "    return lut[int(v)]\n",
    "\n",
    "I = cv2.imread(\"szkielet.bmp\", cv2.IMREAD_GRAYSCALE)\n",
    "I = I/255\n",
    "        \n",
    "\n",
    "        \n",
    "II = I.copy()\n",
    "X,Y = I.shape\n",
    "for i in range (1, X-1):\n",
    "    for j in range (1, Y-1):\n",
    "        row_up = i - 1\n",
    "        row_down = i + 2\n",
    "\n",
    "        col_left = j - 1\n",
    "        col_right = j + 2\n",
    "\n",
    "        S = np.array(I[row_up : row_down, col_left : col_right])     \n",
    "        II[i,j] = end(S)    \n",
    "fig, axs = plt.subplots(1,2)\n",
    "fig.set_size_inches(15,5)\n",
    "\n",
    "axs[0].imshow(I, 'gray')\n",
    "axs[0].axis('off')\n",
    "axs[1].imshow(II, 'gray')\n",
    "axs[1].axis('off')\n",
    "\n",
    "s = np.array([[1, 8,  64],\n",
    "[ 2, 16, 128],\n",
    "[ 4, 32, 256]])\n",
    "print(s+16)"
   ]
  },
  {
   "cell_type": "code",
   "execution_count": 2,
   "metadata": {},
   "outputs": [
    {
     "data": {
      "image/png": "[encoded data removed]",
      "text/plain": [
       "<Figure size 432x288 with 1 Axes>"
      ]
     },
     "metadata": {},
     "output_type": "display_data"
    },
    {
     "data": {
      "image/png": "[encoded data removed]",
      "text/plain": [
       "<Figure size 432x288 with 1 Axes>"
      ]
     },
     "metadata": {},
     "output_type": "display_data"
    },
    {
     "data": {
      "image/png": "[encoded data removed]",
      "text/plain": [
       "<Figure size 432x288 with 1 Axes>"
      ]
     },
     "metadata": {},
     "output_type": "display_data"
    },
    {
     "data": {
      "image/png": "[encoded data removed]",
      "text/plain": [
       "<Figure size 432x288 with 1 Axes>"
      ]
     },
     "metadata": {},
     "output_type": "display_data"
    },
    {
     "data": {
      "image/png": "[encoded data removed]",
      "text/plain": [
       "<Figure size 432x288 with 1 Axes>"
      ]
     },
     "metadata": {},
     "output_type": "display_data"
    },
    {
     "data": {
      "image/png": "[encoded data removed]",
      "text/plain": [
       "<Figure size 432x288 with 1 Axes>"
      ]
     },
     "metadata": {},
     "output_type": "display_data"
    },
    {
     "data": {
      "image/png": "[encoded data removed]",
      "text/plain": [
       "<Figure size 432x288 with 1 Axes>"
      ]
     },
     "metadata": {},
     "output_type": "display_data"
    },
    {
     "data": {
      "image/png": "[encoded data removed]",
      "text/plain": [
       "<Figure size 432x288 with 1 Axes>"
      ]
     },
     "metadata": {},
     "output_type": "display_data"
    },
    {
     "data": {
      "image/png": "[encoded data removed]",
      "text/plain": [
       "<Figure size 432x288 with 1 Axes>"
      ]
     },
     "metadata": {},
     "output_type": "display_data"
    }
   ],
   "source": [
    "import gra\n",
    "\n",
    "struct = np.array([[1,8,64],[2,16,128],[4,32,256]]).astype(\"int64\")\n",
    "lut = np.zeros((512,)).astype(\"int64\")\n",
    "tab = []\n",
    "\n",
    "for i in range(struct.shape[0]):\n",
    "    for j in range(struct.shape[1]):\n",
    "        if not i == j == 1:\n",
    "            elem = struct[i, j] + struct[1, 1]\n",
    "            for k in range(struct.shape[0]):\n",
    "                for l in range(struct.shape[1]):\n",
    "                    if not k == l == 1 and not (k == i and l == j):\n",
    "                        elem2 = elem + struct[k, l]\n",
    "                        tab.append(elem2)\n",
    "                        for m in range(struct.shape[0]):\n",
    "                            for n in range(struct.shape[1]):\n",
    "                                if not m == n == 1 and not (m == k and n == l) and not (m == i and n == j):\n",
    "                                    elem3 = elem2 + struct[m, n]\n",
    "                                    tab.append(elem3)\n",
    "                                    tab.append(elem3-16)\n",
    "            \n",
    "for x in tab:\n",
    "    lut[x] = 1\n",
    "    \n",
    "\n",
    "def gol(S):\n",
    "    v = 0\n",
    "    for i in range(S.shape[0]):\n",
    "        for j in range(S.shape[1]):\n",
    "            v += S[i,j]*struct[i,j]\n",
    "    return lut[int(v)]\n",
    "\n",
    "def game(I):\n",
    "    IP = I.copy()\n",
    "    X,Y = I.shape\n",
    "    for i in range (1, X-1):\n",
    "        for j in range (1, Y-1):\n",
    "            row_up = i - 1\n",
    "            row_down = i + 2\n",
    "\n",
    "            col_left = j - 1\n",
    "            col_right = j + 2\n",
    "\n",
    "            S = np.array(I[row_up : row_down, col_left : col_right])     \n",
    "            IP[i,j] = gol(S)\n",
    "    return IP\n",
    "        \n",
    "def plot(I):\n",
    "    plt.imshow(I,'gray')\n",
    "    plt.xticks([]), plt.yticks([])\n",
    "    plt.show()\n",
    "\n",
    "I = gra.plansza1\n",
    "plot(I)\n",
    "for i in range(8):\n",
    "    I = game(I)\n",
    "    plot(I)"
   ]
  },
  {
   "cell_type": "code",
   "execution_count": null,
   "metadata": {},
   "outputs": [],
   "source": []
  }
 ],
 "metadata": {
  "celltoolbar": "Raw Cell Format",
  "kernelspec": {
   "display_name": "Python 3",
   "language": "python",
   "name": "python3"
  },
  "language_info": {
   "codemirror_mode": {
    "name": "ipython",
    "version": 3
   },
   "file_extension": ".py",
   "mimetype": "text/x-python",
   "name": "python",
   "nbconvert_exporter": "python",
   "pygments_lexer": "ipython3",
   "version": "3.8.3"
  }
 },
 "nbformat": 4,
 "nbformat_minor": 4
}
